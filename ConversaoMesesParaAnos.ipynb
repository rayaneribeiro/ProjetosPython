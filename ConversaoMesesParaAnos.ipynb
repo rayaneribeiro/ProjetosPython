{
 "cells": [
  {
   "cell_type": "markdown",
   "metadata": {},
   "source": [
    "# Convertendo MESES para ANOS"
   ]
  },
  {
   "cell_type": "code",
   "execution_count": 4,
   "metadata": {},
   "outputs": [
    {
     "name": "stdout",
     "output_type": "stream",
     "text": [
      "Total de anos = 5\n"
     ]
    }
   ],
   "source": [
    "qntd_meses = int(input('Quantos meses você quer converter?'))\n",
    "mes = 30.4375\n",
    "anos = (mes * qntd_meses) / 365\n",
    "\n",
    "print(f'Total de anos = {anos:.0f}')"
   ]
  }
 ],
 "metadata": {
  "kernelspec": {
   "display_name": "Python 3",
   "language": "python",
   "name": "python3"
  },
  "language_info": {
   "codemirror_mode": {
    "name": "ipython",
    "version": 3
   },
   "file_extension": ".py",
   "mimetype": "text/x-python",
   "name": "python",
   "nbconvert_exporter": "python",
   "pygments_lexer": "ipython3",
   "version": "3.12.5"
  }
 },
 "nbformat": 4,
 "nbformat_minor": 2
}
